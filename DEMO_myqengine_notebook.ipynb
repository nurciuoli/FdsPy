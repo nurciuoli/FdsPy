{
 "cells": [
  {
   "cell_type": "markdown",
   "metadata": {},
   "source": [
    "## Import Custom Quant Engine Wrapper"
   ]
  },
  {
   "cell_type": "code",
   "execution_count": 1,
   "metadata": {},
   "outputs": [],
   "source": [
    "import qe.myqengine as qe"
   ]
  },
  {
   "cell_type": "markdown",
   "metadata": {},
   "source": [
    "## TimeSeries"
   ]
  },
  {
   "cell_type": "code",
   "execution_count": 2,
   "metadata": {},
   "outputs": [
    {
     "data": {
      "text/plain": [
       "{'calendar': 'NAY',\n",
       " 'end_date': '0M',\n",
       " 'frequency': 'M',\n",
       " 'source': 'FdsDate',\n",
       " 'start_date': '-1M'}"
      ]
     },
     "execution_count": 2,
     "metadata": {},
     "output_type": "execute_result"
    }
   ],
   "source": [
    "time_series = qe.TimeSeries(start_date='-1M',\n",
    "                            end_date = '0M',\n",
    "                            frequency='M',\n",
    "                            calendar=\"NAY\")\n",
    "time_series.get_dates()"
   ]
  },
  {
   "cell_type": "markdown",
   "metadata": {},
   "source": [
    "## Universe\n",
    "### Define universe using a Screening Expression"
   ]
  },
  {
   "cell_type": "code",
   "execution_count": 3,
   "metadata": {},
   "outputs": [
    {
     "data": {
      "text/plain": [
       "{'security_expr': 'TICKER',\n",
       " 'source': 'ScreeningExpressionUniverse',\n",
       " 'universe_expr': 'FG_CONSTITUENTS(SP50,0,CLOSE)',\n",
       " 'universe_type': 'Equity'}"
      ]
     },
     "execution_count": 3,
     "metadata": {},
     "output_type": "execute_result"
    }
   ],
   "source": [
    "#Define a universe object including all constituents of the S&P 500 as of latest close\n",
    "univ = qe.ScreenUniverse(universe_expr = 'FG_CONSTITUENTS(SP50,0,CLOSE)',\n",
    "                    universe_type ='Equity')\n",
    "univ.get_univ()"
   ]
  },
  {
   "cell_type": "markdown",
   "metadata": {},
   "source": [
    "### Define Universe using a list of IDs"
   ]
  },
  {
   "cell_type": "code",
   "execution_count": 4,
   "metadata": {},
   "outputs": [
    {
     "data": {
      "text/plain": [
       "{'identifiers': ['NVDA-US', 'AAPL-US', 'IVV-US'],\n",
       " 'source': 'IdentifierUniverse',\n",
       " 'universe_type': 'Equity'}"
      ]
     },
     "execution_count": 4,
     "metadata": {},
     "output_type": "execute_result"
    }
   ],
   "source": [
    "id_univ = qe.IdUniverse(ids = ['NVDA-US','AAPL-US','IVV-US'],universe_type='Equity')\n",
    "id_univ.get_univ()"
   ]
  },
  {
   "cell_type": "markdown",
   "metadata": {},
   "source": [
    "## Get Data\n",
    "\n",
    "### Calculate formulas using screening"
   ]
  },
  {
   "cell_type": "code",
   "execution_count": 5,
   "metadata": {},
   "outputs": [
    {
     "data": {
      "text/html": [
       "<div>\n",
       "<style scoped>\n",
       "    .dataframe tbody tr th:only-of-type {\n",
       "        vertical-align: middle;\n",
       "    }\n",
       "\n",
       "    .dataframe tbody tr th {\n",
       "        vertical-align: top;\n",
       "    }\n",
       "\n",
       "    .dataframe thead th {\n",
       "        text-align: right;\n",
       "    }\n",
       "</style>\n",
       "<table border=\"1\" class=\"dataframe\">\n",
       "  <thead>\n",
       "    <tr style=\"text-align: right;\">\n",
       "      <th></th>\n",
       "      <th>DATE</th>\n",
       "      <th>UNIVERSE</th>\n",
       "      <th>price</th>\n",
       "      <th>sector</th>\n",
       "    </tr>\n",
       "  </thead>\n",
       "  <tbody>\n",
       "    <tr>\n",
       "      <th>0</th>\n",
       "      <td>20230731</td>\n",
       "      <td>CTAS</td>\n",
       "      <td>502.04</td>\n",
       "      <td>Industrials</td>\n",
       "    </tr>\n",
       "    <tr>\n",
       "      <th>1</th>\n",
       "      <td>20230731</td>\n",
       "      <td>RTX</td>\n",
       "      <td>87.93</td>\n",
       "      <td>Industrials</td>\n",
       "    </tr>\n",
       "    <tr>\n",
       "      <th>2</th>\n",
       "      <td>20230731</td>\n",
       "      <td>WEC</td>\n",
       "      <td>89.86</td>\n",
       "      <td>Utilities</td>\n",
       "    </tr>\n",
       "    <tr>\n",
       "      <th>3</th>\n",
       "      <td>20230731</td>\n",
       "      <td>MAA</td>\n",
       "      <td>149.66</td>\n",
       "      <td>Real Estate</td>\n",
       "    </tr>\n",
       "    <tr>\n",
       "      <th>4</th>\n",
       "      <td>20230731</td>\n",
       "      <td>AES</td>\n",
       "      <td>21.63</td>\n",
       "      <td>Utilities</td>\n",
       "    </tr>\n",
       "    <tr>\n",
       "      <th>...</th>\n",
       "      <td>...</td>\n",
       "      <td>...</td>\n",
       "      <td>...</td>\n",
       "      <td>...</td>\n",
       "    </tr>\n",
       "    <tr>\n",
       "      <th>1001</th>\n",
       "      <td>20230831</td>\n",
       "      <td>OTIS</td>\n",
       "      <td>85.55</td>\n",
       "      <td>Industrials</td>\n",
       "    </tr>\n",
       "    <tr>\n",
       "      <th>1002</th>\n",
       "      <td>20230831</td>\n",
       "      <td>MTCH</td>\n",
       "      <td>46.87</td>\n",
       "      <td>Communication Services</td>\n",
       "    </tr>\n",
       "    <tr>\n",
       "      <th>1003</th>\n",
       "      <td>20230831</td>\n",
       "      <td>GEHC</td>\n",
       "      <td>70.45</td>\n",
       "      <td>Health Care</td>\n",
       "    </tr>\n",
       "    <tr>\n",
       "      <th>1004</th>\n",
       "      <td>20230831</td>\n",
       "      <td>WBD</td>\n",
       "      <td>13.14</td>\n",
       "      <td>Communication Services</td>\n",
       "    </tr>\n",
       "    <tr>\n",
       "      <th>1005</th>\n",
       "      <td>20230831</td>\n",
       "      <td>KVUE</td>\n",
       "      <td>23.05</td>\n",
       "      <td>Consumer Staples</td>\n",
       "    </tr>\n",
       "  </tbody>\n",
       "</table>\n",
       "<p>1006 rows × 4 columns</p>\n",
       "</div>"
      ],
      "text/plain": [
       "          DATE UNIVERSE   price                  sector\n",
       "0     20230731     CTAS  502.04             Industrials\n",
       "1     20230731      RTX   87.93             Industrials\n",
       "2     20230731      WEC   89.86               Utilities\n",
       "3     20230731      MAA  149.66             Real Estate\n",
       "4     20230731      AES   21.63               Utilities\n",
       "...        ...      ...     ...                     ...\n",
       "1001  20230831     OTIS   85.55             Industrials\n",
       "1002  20230831     MTCH   46.87  Communication Services\n",
       "1003  20230831     GEHC   70.45             Health Care\n",
       "1004  20230831      WBD   13.14  Communication Services\n",
       "1005  20230831     KVUE   23.05        Consumer Staples\n",
       "\n",
       "[1006 rows x 4 columns]"
      ]
     },
     "execution_count": 5,
     "metadata": {},
     "output_type": "execute_result"
    }
   ],
   "source": [
    "### Generate Data using Screening\n",
    "formulas = {'price':'P_PRICE(0,USD)',\n",
    "            'sector':'GICS_SECTOR'}\n",
    "calc = qe.QeCalculation(universe=univ, data_dict=formulas,dates = time_series).query()\n",
    "calc.data"
   ]
  },
  {
   "cell_type": "markdown",
   "metadata": {},
   "source": [
    "### FQL"
   ]
  },
  {
   "cell_type": "code",
   "execution_count": 7,
   "metadata": {},
   "outputs": [
    {
     "data": {
      "text/html": [
       "<div>\n",
       "<style scoped>\n",
       "    .dataframe tbody tr th:only-of-type {\n",
       "        vertical-align: middle;\n",
       "    }\n",
       "\n",
       "    .dataframe tbody tr th {\n",
       "        vertical-align: top;\n",
       "    }\n",
       "\n",
       "    .dataframe thead th {\n",
       "        text-align: right;\n",
       "    }\n",
       "</style>\n",
       "<table border=\"1\" class=\"dataframe\">\n",
       "  <thead>\n",
       "    <tr style=\"text-align: right;\">\n",
       "      <th></th>\n",
       "      <th>DATE</th>\n",
       "      <th>UNIVERSE</th>\n",
       "      <th>os_top_hldr_id</th>\n",
       "    </tr>\n",
       "  </thead>\n",
       "  <tbody>\n",
       "    <tr>\n",
       "      <th>0</th>\n",
       "      <td>20230731</td>\n",
       "      <td>NVDA-US</td>\n",
       "      <td>[M4004630, M4004543, M4001597, M4006564, M4032...</td>\n",
       "    </tr>\n",
       "    <tr>\n",
       "      <th>1</th>\n",
       "      <td>20230731</td>\n",
       "      <td>AAPL-US</td>\n",
       "      <td>[M4004630, M4004543, M4001597, M4006564, M4032...</td>\n",
       "    </tr>\n",
       "    <tr>\n",
       "      <th>2</th>\n",
       "      <td>20230731</td>\n",
       "      <td>IVV-US</td>\n",
       "      <td>[M4052193, M4250148, M4137677, M4178207, M4178...</td>\n",
       "    </tr>\n",
       "    <tr>\n",
       "      <th>3</th>\n",
       "      <td>20230831</td>\n",
       "      <td>NVDA-US</td>\n",
       "      <td>[M4004630, M4004543, M4001597, M4006564, M4032...</td>\n",
       "    </tr>\n",
       "    <tr>\n",
       "      <th>4</th>\n",
       "      <td>20230831</td>\n",
       "      <td>AAPL-US</td>\n",
       "      <td>[M4004630, M4004543, M4001597, M4032427, M4006...</td>\n",
       "    </tr>\n",
       "    <tr>\n",
       "      <th>5</th>\n",
       "      <td>20230831</td>\n",
       "      <td>IVV-US</td>\n",
       "      <td>[M4052193, M4250148, M4137677, M4178207, M4178...</td>\n",
       "    </tr>\n",
       "  </tbody>\n",
       "</table>\n",
       "</div>"
      ],
      "text/plain": [
       "       DATE UNIVERSE                                     os_top_hldr_id\n",
       "0  20230731  NVDA-US  [M4004630, M4004543, M4001597, M4006564, M4032...\n",
       "1  20230731  AAPL-US  [M4004630, M4004543, M4001597, M4006564, M4032...\n",
       "2  20230731   IVV-US  [M4052193, M4250148, M4137677, M4178207, M4178...\n",
       "3  20230831  NVDA-US  [M4004630, M4004543, M4001597, M4006564, M4032...\n",
       "4  20230831  AAPL-US  [M4004630, M4004543, M4001597, M4032427, M4006...\n",
       "5  20230831   IVV-US  [M4052193, M4250148, M4137677, M4178207, M4178..."
      ]
     },
     "execution_count": 7,
     "metadata": {},
     "output_type": "execute_result"
    }
   ],
   "source": [
    "### Generate Data using FQL\n",
    "formulas = {'os_top_hldr_id':'OS_TOP_HLDR_ID(5,#DATE,,M,,M)'}\n",
    "df = qe.QeCalculation(universe=id_univ, dates = time_series, data_dict=formulas,source = \"FqlExpression\",is_array=True).query()\n",
    "df.data"
   ]
  },
  {
   "cell_type": "markdown",
   "metadata": {},
   "source": [
    "### Mixed FQL with Screening"
   ]
  },
  {
   "cell_type": "code",
   "execution_count": 8,
   "metadata": {},
   "outputs": [
    {
     "data": {
      "text/html": [
       "<div>\n",
       "<style scoped>\n",
       "    .dataframe tbody tr th:only-of-type {\n",
       "        vertical-align: middle;\n",
       "    }\n",
       "\n",
       "    .dataframe tbody tr th {\n",
       "        vertical-align: top;\n",
       "    }\n",
       "\n",
       "    .dataframe thead th {\n",
       "        text-align: right;\n",
       "    }\n",
       "</style>\n",
       "<table border=\"1\" class=\"dataframe\">\n",
       "  <thead>\n",
       "    <tr style=\"text-align: right;\">\n",
       "      <th></th>\n",
       "      <th>DATE</th>\n",
       "      <th>UNIVERSE</th>\n",
       "      <th>price</th>\n",
       "      <th>top_hldrs</th>\n",
       "    </tr>\n",
       "  </thead>\n",
       "  <tbody>\n",
       "    <tr>\n",
       "      <th>0</th>\n",
       "      <td>20230731</td>\n",
       "      <td>NVDA-US</td>\n",
       "      <td>467.29</td>\n",
       "      <td>[M4004630, M4004543, M4001597, M4006564, M4032...</td>\n",
       "    </tr>\n",
       "    <tr>\n",
       "      <th>1</th>\n",
       "      <td>20230731</td>\n",
       "      <td>AAPL-US</td>\n",
       "      <td>196.45</td>\n",
       "      <td>[M4004630, M4004543, M4001597, M4006564, M4032...</td>\n",
       "    </tr>\n",
       "    <tr>\n",
       "      <th>2</th>\n",
       "      <td>20230731</td>\n",
       "      <td>IVV-US</td>\n",
       "      <td>460.18</td>\n",
       "      <td>[M4052193, M4250148, M4137677, M4178207, M4178...</td>\n",
       "    </tr>\n",
       "    <tr>\n",
       "      <th>3</th>\n",
       "      <td>20230831</td>\n",
       "      <td>NVDA-US</td>\n",
       "      <td>493.55</td>\n",
       "      <td>[M4004630, M4004543, M4001597, M4006564, M4032...</td>\n",
       "    </tr>\n",
       "    <tr>\n",
       "      <th>4</th>\n",
       "      <td>20230831</td>\n",
       "      <td>AAPL-US</td>\n",
       "      <td>187.87</td>\n",
       "      <td>[M4004630, M4004543, M4001597, M4032427, M4006...</td>\n",
       "    </tr>\n",
       "    <tr>\n",
       "      <th>5</th>\n",
       "      <td>20230831</td>\n",
       "      <td>IVV-US</td>\n",
       "      <td>452.69</td>\n",
       "      <td>[M4052193, M4250148, M4137677, M4178207, M4178...</td>\n",
       "    </tr>\n",
       "  </tbody>\n",
       "</table>\n",
       "</div>"
      ],
      "text/plain": [
       "       DATE UNIVERSE   price  \\\n",
       "0  20230731  NVDA-US  467.29   \n",
       "1  20230731  AAPL-US  196.45   \n",
       "2  20230731   IVV-US  460.18   \n",
       "3  20230831  NVDA-US  493.55   \n",
       "4  20230831  AAPL-US  187.87   \n",
       "5  20230831   IVV-US  452.69   \n",
       "\n",
       "                                           top_hldrs  \n",
       "0  [M4004630, M4004543, M4001597, M4006564, M4032...  \n",
       "1  [M4004630, M4004543, M4001597, M4006564, M4032...  \n",
       "2  [M4052193, M4250148, M4137677, M4178207, M4178...  \n",
       "3  [M4004630, M4004543, M4001597, M4006564, M4032...  \n",
       "4  [M4004630, M4004543, M4001597, M4032427, M4006...  \n",
       "5  [M4052193, M4250148, M4137677, M4178207, M4178...  "
      ]
     },
     "execution_count": 8,
     "metadata": {},
     "output_type": "execute_result"
    }
   ],
   "source": [
    "formulas = [qe.QuantScreeningExpression(expr = 'P_PRICE(0,USD)',name= 'price',source= 'ScreeningExpression'),\n",
    "            qe.QuantFqlExpression(expr = 'OS_TOP_HLDR_ID(5,#DATE,,M,,M)',name = 'top_hldrs',source='FqlExpression',is_array_return_type=True)]\n",
    "df = qe.QeCalculation(universe=id_univ, dates = time_series, formulas=formulas).query()\n",
    "df.data"
   ]
  }
 ],
 "metadata": {
  "kernelspec": {
   "display_name": "Python 3.10.9 ('base')",
   "language": "python",
   "name": "python3"
  },
  "language_info": {
   "codemirror_mode": {
    "name": "ipython",
    "version": 3
   },
   "file_extension": ".py",
   "mimetype": "text/x-python",
   "name": "python",
   "nbconvert_exporter": "python",
   "pygments_lexer": "ipython3",
   "version": "3.10.9"
  },
  "orig_nbformat": 4,
  "vscode": {
   "interpreter": {
    "hash": "458a394547928dfadf86201cbd89c6f9caa75b48ecae837ee683b0ae04c5a731"
   }
  }
 },
 "nbformat": 4,
 "nbformat_minor": 2
}
