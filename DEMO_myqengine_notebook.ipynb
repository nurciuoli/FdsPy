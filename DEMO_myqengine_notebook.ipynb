{
 "cells": [
  {
   "cell_type": "markdown",
   "metadata": {},
   "source": [
    "## Import Custom Quant Engine Wrapper"
   ]
  },
  {
   "cell_type": "code",
   "execution_count": 1,
   "metadata": {},
   "outputs": [],
   "source": [
    "import apis.qe.myqengine as qe"
   ]
  },
  {
   "cell_type": "markdown",
   "metadata": {},
   "source": [
    "## TimeSeries"
   ]
  },
  {
   "cell_type": "code",
   "execution_count": 2,
   "metadata": {},
   "outputs": [
    {
     "data": {
      "text/plain": [
       "{'calendar': 'NAY',\n",
       " 'end_date': '0M',\n",
       " 'frequency': 'M',\n",
       " 'source': 'FdsDate',\n",
       " 'start_date': '-1M'}"
      ]
     },
     "execution_count": 2,
     "metadata": {},
     "output_type": "execute_result"
    }
   ],
   "source": [
    "time_series = qe.TimeSeries(start_date='-1M',\n",
    "                            end_date = '0M',\n",
    "                            frequency='M',\n",
    "                            calendar=\"NAY\")\n",
    "time_series.get_dates()"
   ]
  },
  {
   "cell_type": "markdown",
   "metadata": {},
   "source": [
    "## Universe\n",
    "### Define universe using a Screening Expression"
   ]
  },
  {
   "cell_type": "code",
   "execution_count": 3,
   "metadata": {},
   "outputs": [
    {
     "data": {
      "text/plain": [
       "{'security_expr': 'TICKER',\n",
       " 'source': 'ScreeningExpressionUniverse',\n",
       " 'universe_expr': 'FG_CONSTITUENTS(SP50,0,CLOSE)',\n",
       " 'universe_type': 'Equity'}"
      ]
     },
     "execution_count": 3,
     "metadata": {},
     "output_type": "execute_result"
    }
   ],
   "source": [
    "#Define a universe object including all constituents of the S&P 500 as of latest close\n",
    "univ = qe.ScreenUniverse(universe_expr = 'FG_CONSTITUENTS(SP50,0,CLOSE)',\n",
    "                    universe_type ='Equity')\n",
    "univ.get_univ()"
   ]
  },
  {
   "cell_type": "markdown",
   "metadata": {},
   "source": [
    "### Define Universe using a list of IDs"
   ]
  },
  {
   "cell_type": "code",
   "execution_count": 6,
   "metadata": {},
   "outputs": [
    {
     "data": {
      "text/plain": [
       "{'identifiers': ['NVDA-US', 'AAPL-US', 'IVV-US'],\n",
       " 'source': 'IdentifierUniverse',\n",
       " 'universe_type': 'Equity'}"
      ]
     },
     "execution_count": 6,
     "metadata": {},
     "output_type": "execute_result"
    }
   ],
   "source": [
    "id_univ = qe.IdUniverse(ids = ['NVDA-US','AAPL-US','IVV-US'],universe_type='Equity')\n",
    "id_univ.get_univ()"
   ]
  },
  {
   "cell_type": "markdown",
   "metadata": {},
   "source": [
    "## Get Data\n",
    "\n",
    "### Calculate formulas using screening"
   ]
  },
  {
   "cell_type": "code",
   "execution_count": 7,
   "metadata": {},
   "outputs": [
    {
     "data": {
      "text/html": [
       "<div>\n",
       "<style scoped>\n",
       "    .dataframe tbody tr th:only-of-type {\n",
       "        vertical-align: middle;\n",
       "    }\n",
       "\n",
       "    .dataframe tbody tr th {\n",
       "        vertical-align: top;\n",
       "    }\n",
       "\n",
       "    .dataframe thead th {\n",
       "        text-align: right;\n",
       "    }\n",
       "</style>\n",
       "<table border=\"1\" class=\"dataframe\">\n",
       "  <thead>\n",
       "    <tr style=\"text-align: right;\">\n",
       "      <th></th>\n",
       "      <th>DATE</th>\n",
       "      <th>UNIVERSE</th>\n",
       "      <th>P_PRICE(0,USD)</th>\n",
       "      <th>GICS_SECTOR</th>\n",
       "    </tr>\n",
       "  </thead>\n",
       "  <tbody>\n",
       "    <tr>\n",
       "      <th>0</th>\n",
       "      <td>20230630</td>\n",
       "      <td>CTAS</td>\n",
       "      <td>497.08</td>\n",
       "      <td>Industrials</td>\n",
       "    </tr>\n",
       "    <tr>\n",
       "      <th>1</th>\n",
       "      <td>20230630</td>\n",
       "      <td>RTX</td>\n",
       "      <td>97.96</td>\n",
       "      <td>Industrials</td>\n",
       "    </tr>\n",
       "    <tr>\n",
       "      <th>2</th>\n",
       "      <td>20230630</td>\n",
       "      <td>WEC</td>\n",
       "      <td>88.24</td>\n",
       "      <td>Utilities</td>\n",
       "    </tr>\n",
       "    <tr>\n",
       "      <th>3</th>\n",
       "      <td>20230630</td>\n",
       "      <td>MAA</td>\n",
       "      <td>151.86</td>\n",
       "      <td>Real Estate</td>\n",
       "    </tr>\n",
       "    <tr>\n",
       "      <th>4</th>\n",
       "      <td>20230630</td>\n",
       "      <td>AES</td>\n",
       "      <td>20.73</td>\n",
       "      <td>Utilities</td>\n",
       "    </tr>\n",
       "    <tr>\n",
       "      <th>...</th>\n",
       "      <td>...</td>\n",
       "      <td>...</td>\n",
       "      <td>...</td>\n",
       "      <td>...</td>\n",
       "    </tr>\n",
       "    <tr>\n",
       "      <th>1001</th>\n",
       "      <td>20230731</td>\n",
       "      <td>CARR</td>\n",
       "      <td>59.55</td>\n",
       "      <td>Industrials</td>\n",
       "    </tr>\n",
       "    <tr>\n",
       "      <th>1002</th>\n",
       "      <td>20230731</td>\n",
       "      <td>OTIS</td>\n",
       "      <td>90.96</td>\n",
       "      <td>Industrials</td>\n",
       "    </tr>\n",
       "    <tr>\n",
       "      <th>1003</th>\n",
       "      <td>20230731</td>\n",
       "      <td>MTCH</td>\n",
       "      <td>46.51</td>\n",
       "      <td>Communication Services</td>\n",
       "    </tr>\n",
       "    <tr>\n",
       "      <th>1004</th>\n",
       "      <td>20230731</td>\n",
       "      <td>GEHC</td>\n",
       "      <td>78.00</td>\n",
       "      <td>Health Care</td>\n",
       "    </tr>\n",
       "    <tr>\n",
       "      <th>1005</th>\n",
       "      <td>20230731</td>\n",
       "      <td>WBD</td>\n",
       "      <td>13.07</td>\n",
       "      <td>Communication Services</td>\n",
       "    </tr>\n",
       "  </tbody>\n",
       "</table>\n",
       "<p>1006 rows × 4 columns</p>\n",
       "</div>"
      ],
      "text/plain": [
       "          DATE UNIVERSE  P_PRICE(0,USD)             GICS_SECTOR\n",
       "0     20230630     CTAS          497.08             Industrials\n",
       "1     20230630      RTX           97.96             Industrials\n",
       "2     20230630      WEC           88.24               Utilities\n",
       "3     20230630      MAA          151.86             Real Estate\n",
       "4     20230630      AES           20.73               Utilities\n",
       "...        ...      ...             ...                     ...\n",
       "1001  20230731     CARR           59.55             Industrials\n",
       "1002  20230731     OTIS           90.96             Industrials\n",
       "1003  20230731     MTCH           46.51  Communication Services\n",
       "1004  20230731     GEHC           78.00             Health Care\n",
       "1005  20230731      WBD           13.07  Communication Services\n",
       "\n",
       "[1006 rows x 4 columns]"
      ]
     },
     "execution_count": 7,
     "metadata": {},
     "output_type": "execute_result"
    }
   ],
   "source": [
    "### Generate Data using Screening\n",
    "formulas = ['P_PRICE(0,USD)','GICS_SECTOR']\n",
    "df = qe.calculate(universe=univ, dates = time_series, formulas=formulas)\n",
    "df.data"
   ]
  },
  {
   "cell_type": "markdown",
   "metadata": {},
   "source": [
    "### FQL"
   ]
  },
  {
   "cell_type": "code",
   "execution_count": 8,
   "metadata": {},
   "outputs": [
    {
     "data": {
      "text/html": [
       "<div>\n",
       "<style scoped>\n",
       "    .dataframe tbody tr th:only-of-type {\n",
       "        vertical-align: middle;\n",
       "    }\n",
       "\n",
       "    .dataframe tbody tr th {\n",
       "        vertical-align: top;\n",
       "    }\n",
       "\n",
       "    .dataframe thead th {\n",
       "        text-align: right;\n",
       "    }\n",
       "</style>\n",
       "<table border=\"1\" class=\"dataframe\">\n",
       "  <thead>\n",
       "    <tr style=\"text-align: right;\">\n",
       "      <th></th>\n",
       "      <th>DATE</th>\n",
       "      <th>UNIVERSE</th>\n",
       "      <th>OS_TOP_HLDR_ID(5,#DATE,,M,,M)</th>\n",
       "    </tr>\n",
       "  </thead>\n",
       "  <tbody>\n",
       "    <tr>\n",
       "      <th>0</th>\n",
       "      <td>20230630</td>\n",
       "      <td>NVDA-US</td>\n",
       "      <td>[M4004630, M4004543, M4017554, M4006564, M4001...</td>\n",
       "    </tr>\n",
       "    <tr>\n",
       "      <th>1</th>\n",
       "      <td>20230630</td>\n",
       "      <td>AAPL-US</td>\n",
       "      <td>[M4004630, M4004543, M4006564, M4001597, M4032...</td>\n",
       "    </tr>\n",
       "    <tr>\n",
       "      <th>2</th>\n",
       "      <td>20230630</td>\n",
       "      <td>IVV-US</td>\n",
       "      <td>[M4052193, M4250148, M4137677, M4178207, M4178...</td>\n",
       "    </tr>\n",
       "    <tr>\n",
       "      <th>3</th>\n",
       "      <td>20230731</td>\n",
       "      <td>NVDA-US</td>\n",
       "      <td>[M4004630, M4004543, M4001597, M4006564, M4032...</td>\n",
       "    </tr>\n",
       "    <tr>\n",
       "      <th>4</th>\n",
       "      <td>20230731</td>\n",
       "      <td>AAPL-US</td>\n",
       "      <td>[M4004630, M4004543, M4001597, M4006564, M4032...</td>\n",
       "    </tr>\n",
       "    <tr>\n",
       "      <th>5</th>\n",
       "      <td>20230731</td>\n",
       "      <td>IVV-US</td>\n",
       "      <td>[M4052193, M4250148, M4137677, M4178207, M4178...</td>\n",
       "    </tr>\n",
       "  </tbody>\n",
       "</table>\n",
       "</div>"
      ],
      "text/plain": [
       "       DATE UNIVERSE                      OS_TOP_HLDR_ID(5,#DATE,,M,,M)\n",
       "0  20230630  NVDA-US  [M4004630, M4004543, M4017554, M4006564, M4001...\n",
       "1  20230630  AAPL-US  [M4004630, M4004543, M4006564, M4001597, M4032...\n",
       "2  20230630   IVV-US  [M4052193, M4250148, M4137677, M4178207, M4178...\n",
       "3  20230731  NVDA-US  [M4004630, M4004543, M4001597, M4006564, M4032...\n",
       "4  20230731  AAPL-US  [M4004630, M4004543, M4001597, M4006564, M4032...\n",
       "5  20230731   IVV-US  [M4052193, M4250148, M4137677, M4178207, M4178..."
      ]
     },
     "execution_count": 8,
     "metadata": {},
     "output_type": "execute_result"
    }
   ],
   "source": [
    "### Generate Data using FQL\n",
    "formulas = ['OS_TOP_HLDR_ID(5,#DATE,,M,,M)']\n",
    "df = qe.calculate(universe=id_univ, dates = time_series, formulas=formulas,source = \"FqlExpression\",is_array_return_type=True)\n",
    "df.data"
   ]
  }
 ],
 "metadata": {
  "kernelspec": {
   "display_name": "Python 3.10.9 ('base')",
   "language": "python",
   "name": "python3"
  },
  "language_info": {
   "codemirror_mode": {
    "name": "ipython",
    "version": 3
   },
   "file_extension": ".py",
   "mimetype": "text/x-python",
   "name": "python",
   "nbconvert_exporter": "python",
   "pygments_lexer": "ipython3",
   "version": "3.10.9"
  },
  "orig_nbformat": 4,
  "vscode": {
   "interpreter": {
    "hash": "458a394547928dfadf86201cbd89c6f9caa75b48ecae837ee683b0ae04c5a731"
   }
  }
 },
 "nbformat": 4,
 "nbformat_minor": 2
}
