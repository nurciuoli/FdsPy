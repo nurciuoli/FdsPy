{
 "cells": [
  {
   "cell_type": "markdown",
   "metadata": {},
   "source": [
    "## Import myspengine"
   ]
  },
  {
   "cell_type": "code",
   "execution_count": 1,
   "metadata": {},
   "outputs": [],
   "source": [
    "import apis.spar.myspengine as sp"
   ]
  },
  {
   "cell_type": "markdown",
   "metadata": {},
   "source": [
    "## Pass SPAR Document Inputs"
   ]
  },
  {
   "cell_type": "code",
   "execution_count": 2,
   "metadata": {},
   "outputs": [],
   "source": [
    "import pandas as pd\n",
    "\n",
    "#Spar inputs\n",
    "doc_name = \"PERSONAL:RETURNS_API\"\n",
    "comp_name = 'Cumulative Returns Table'\n",
    "comp_cat = 'Raw Data / Returns'\n",
    "bench_prefix = 'SPN'\n",
    "\n",
    "ports = ['SPY-US','IVV-US','QQQ-US']\n",
    "bench = 'SP50.R'\n",
    "ret_type = 'NTR'\n",
    "freq = 'Daily'\n",
    "curr = 'USD'\n",
    "startdate = '20220101'\n",
    "enddate = '20230101'\n",
    "\n",
    "#post call to SPAR api\n",
    "spar_df = sp.calc_spar_data(doc_name,comp_name,comp_cat,ports,bench,bench_prefix,ret_type,startdate,enddate,freq,curr)"
   ]
  },
  {
   "cell_type": "markdown",
   "metadata": {},
   "source": [
    "### View Output"
   ]
  },
  {
   "cell_type": "code",
   "execution_count": 7,
   "metadata": {},
   "outputs": [
    {
     "data": {
      "text/html": [
       "<div>\n",
       "<style scoped>\n",
       "    .dataframe tbody tr th:only-of-type {\n",
       "        vertical-align: middle;\n",
       "    }\n",
       "\n",
       "    .dataframe tbody tr th {\n",
       "        vertical-align: top;\n",
       "    }\n",
       "\n",
       "    .dataframe thead th {\n",
       "        text-align: right;\n",
       "    }\n",
       "</style>\n",
       "<table border=\"1\" class=\"dataframe\">\n",
       "  <thead>\n",
       "    <tr style=\"text-align: right;\">\n",
       "      <th></th>\n",
       "      <th>Dates</th>\n",
       "      <th>Cumulative Return | S&amp;P 500 - Total Return</th>\n",
       "      <th>Cumulative Return | S&amp;P 500 - Price Return</th>\n",
       "    </tr>\n",
       "  </thead>\n",
       "  <tbody>\n",
       "    <tr>\n",
       "      <th>0</th>\n",
       "      <td>12/31/2021</td>\n",
       "      <td>0.000000</td>\n",
       "      <td>0.000000</td>\n",
       "    </tr>\n",
       "    <tr>\n",
       "      <th>1</th>\n",
       "      <td>01/03/2022</td>\n",
       "      <td>0.637952</td>\n",
       "      <td>0.637371</td>\n",
       "    </tr>\n",
       "    <tr>\n",
       "      <th>2</th>\n",
       "      <td>01/04/2022</td>\n",
       "      <td>0.581259</td>\n",
       "      <td>0.573924</td>\n",
       "    </tr>\n",
       "    <tr>\n",
       "      <th>3</th>\n",
       "      <td>01/05/2022</td>\n",
       "      <td>-1.361757</td>\n",
       "      <td>-1.376460</td>\n",
       "    </tr>\n",
       "    <tr>\n",
       "      <th>4</th>\n",
       "      <td>01/06/2022</td>\n",
       "      <td>-1.449665</td>\n",
       "      <td>-1.471390</td>\n",
       "    </tr>\n",
       "    <tr>\n",
       "      <th>...</th>\n",
       "      <td>...</td>\n",
       "      <td>...</td>\n",
       "      <td>...</td>\n",
       "    </tr>\n",
       "    <tr>\n",
       "      <th>256</th>\n",
       "      <td>12/26/2022</td>\n",
       "      <td>-18.020309</td>\n",
       "      <td>-19.331359</td>\n",
       "    </tr>\n",
       "    <tr>\n",
       "      <th>257</th>\n",
       "      <td>12/27/2022</td>\n",
       "      <td>-18.345704</td>\n",
       "      <td>-19.657947</td>\n",
       "    </tr>\n",
       "    <tr>\n",
       "      <th>258</th>\n",
       "      <td>12/28/2022</td>\n",
       "      <td>-19.326504</td>\n",
       "      <td>-20.623653</td>\n",
       "    </tr>\n",
       "    <tr>\n",
       "      <th>259</th>\n",
       "      <td>12/29/2022</td>\n",
       "      <td>-17.907245</td>\n",
       "      <td>-19.237611</td>\n",
       "    </tr>\n",
       "    <tr>\n",
       "      <th>260</th>\n",
       "      <td>12/30/2022</td>\n",
       "      <td>-18.110865</td>\n",
       "      <td>-19.442946</td>\n",
       "    </tr>\n",
       "  </tbody>\n",
       "</table>\n",
       "<p>261 rows × 3 columns</p>\n",
       "</div>"
      ],
      "text/plain": [
       "          Dates  Cumulative Return | S&P 500 - Total Return  \\\n",
       "0    12/31/2021                                    0.000000   \n",
       "1    01/03/2022                                    0.637952   \n",
       "2    01/04/2022                                    0.581259   \n",
       "3    01/05/2022                                   -1.361757   \n",
       "4    01/06/2022                                   -1.449665   \n",
       "..          ...                                         ...   \n",
       "256  12/26/2022                                  -18.020309   \n",
       "257  12/27/2022                                  -18.345704   \n",
       "258  12/28/2022                                  -19.326504   \n",
       "259  12/29/2022                                  -17.907245   \n",
       "260  12/30/2022                                  -18.110865   \n",
       "\n",
       "     Cumulative Return | S&P 500 - Price Return  \n",
       "0                                      0.000000  \n",
       "1                                      0.637371  \n",
       "2                                      0.573924  \n",
       "3                                     -1.376460  \n",
       "4                                     -1.471390  \n",
       "..                                          ...  \n",
       "256                                  -19.331359  \n",
       "257                                  -19.657947  \n",
       "258                                  -20.623653  \n",
       "259                                  -19.237611  \n",
       "260                                  -19.442946  \n",
       "\n",
       "[261 rows x 3 columns]"
      ]
     },
     "execution_count": 7,
     "metadata": {},
     "output_type": "execute_result"
    }
   ],
   "source": [
    "spar_df[list(spar_df.keys())[0]][0]"
   ]
  }
 ],
 "metadata": {
  "kernelspec": {
   "display_name": "Python 3.10.9 ('base')",
   "language": "python",
   "name": "python3"
  },
  "language_info": {
   "codemirror_mode": {
    "name": "ipython",
    "version": 3
   },
   "file_extension": ".py",
   "mimetype": "text/x-python",
   "name": "python",
   "nbconvert_exporter": "python",
   "pygments_lexer": "ipython3",
   "version": "3.10.9"
  },
  "orig_nbformat": 4,
  "vscode": {
   "interpreter": {
    "hash": "458a394547928dfadf86201cbd89c6f9caa75b48ecae837ee683b0ae04c5a731"
   }
  }
 },
 "nbformat": 4,
 "nbformat_minor": 2
}
